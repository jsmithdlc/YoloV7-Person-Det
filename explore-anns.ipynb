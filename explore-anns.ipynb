{
 "cells": [
  {
   "cell_type": "code",
   "execution_count": 1,
   "metadata": {},
   "outputs": [],
   "source": [
    "import pandas as pd"
   ]
  },
  {
   "cell_type": "markdown",
   "metadata": {},
   "source": [
    "## Explore COCO HRNet person detections\n",
    "\n",
    "COCO bounding box annotations are in the form: [x_min, y_min, width, height]"
   ]
  },
  {
   "cell_type": "code",
   "execution_count": 6,
   "metadata": {},
   "outputs": [
    {
     "data": {
      "text/html": [
       "<div>\n",
       "<style scoped>\n",
       "    .dataframe tbody tr th:only-of-type {\n",
       "        vertical-align: middle;\n",
       "    }\n",
       "\n",
       "    .dataframe tbody tr th {\n",
       "        vertical-align: top;\n",
       "    }\n",
       "\n",
       "    .dataframe thead th {\n",
       "        text-align: right;\n",
       "    }\n",
       "</style>\n",
       "<table border=\"1\" class=\"dataframe\">\n",
       "  <thead>\n",
       "    <tr style=\"text-align: right;\">\n",
       "      <th></th>\n",
       "      <th>bbox</th>\n",
       "      <th>category_id</th>\n",
       "      <th>image_id</th>\n",
       "      <th>score</th>\n",
       "    </tr>\n",
       "  </thead>\n",
       "  <tbody>\n",
       "    <tr>\n",
       "      <th>0</th>\n",
       "      <td>[249.8199079291458, 175.21093805640606, 74.004...</td>\n",
       "      <td>1</td>\n",
       "      <td>532481</td>\n",
       "      <td>0.999274</td>\n",
       "    </tr>\n",
       "    <tr>\n",
       "      <th>1</th>\n",
       "      <td>[284.07836701140275, 370.43747059580454, 13.84...</td>\n",
       "      <td>1</td>\n",
       "      <td>532481</td>\n",
       "      <td>0.983319</td>\n",
       "    </tr>\n",
       "    <tr>\n",
       "      <th>2</th>\n",
       "      <td>[244.05099093550018, 170.61324112294565, 74.56...</td>\n",
       "      <td>1</td>\n",
       "      <td>532481</td>\n",
       "      <td>0.471152</td>\n",
       "    </tr>\n",
       "    <tr>\n",
       "      <th>3</th>\n",
       "      <td>[285.7852415208732, 370.21400193144893, 10.915...</td>\n",
       "      <td>1</td>\n",
       "      <td>532481</td>\n",
       "      <td>0.427866</td>\n",
       "    </tr>\n",
       "    <tr>\n",
       "      <th>4</th>\n",
       "      <td>[254.66838783379924, 177.22587387050734, 65.52...</td>\n",
       "      <td>1</td>\n",
       "      <td>532481</td>\n",
       "      <td>0.212189</td>\n",
       "    </tr>\n",
       "  </tbody>\n",
       "</table>\n",
       "</div>"
      ],
      "text/plain": [
       "                                                bbox  category_id  image_id  \\\n",
       "0  [249.8199079291458, 175.21093805640606, 74.004...            1    532481   \n",
       "1  [284.07836701140275, 370.43747059580454, 13.84...            1    532481   \n",
       "2  [244.05099093550018, 170.61324112294565, 74.56...            1    532481   \n",
       "3  [285.7852415208732, 370.21400193144893, 10.915...            1    532481   \n",
       "4  [254.66838783379924, 177.22587387050734, 65.52...            1    532481   \n",
       "\n",
       "      score  \n",
       "0  0.999274  \n",
       "1  0.983319  \n",
       "2  0.471152  \n",
       "3  0.427866  \n",
       "4  0.212189  "
      ]
     },
     "metadata": {},
     "output_type": "display_data"
    },
    {
     "name": "stdout",
     "output_type": "stream",
     "text": [
      "Sample bbox: [249.8199079291458, 175.21093805640606, 74.00419360691592, 55.626325589288854]\n"
     ]
    }
   ],
   "source": [
    "val_path = \"data/coco2017/COCO_val2017_detections_AP_H_56_person.json\"\n",
    "val_boxes = pd.read_json(val_path)\n",
    "display(val_boxes.head(5))\n",
    "sample_bbox = val_boxes.head().iloc[0][\"bbox\"]\n",
    "print(f\"Sample bbox: {sample_bbox}\")"
   ]
  },
  {
   "cell_type": "markdown",
   "metadata": {},
   "source": [
    "## Transform YOLO Detections to same COCO HRNet format\n",
    "\n",
    "YOLO assigns an independent .txt file for each image, where each line contains a different detection. The format is the following:\n",
    "\n",
    "```txt\n",
    "class_id, x_centre, y_centre, width, height\n",
    "```\n",
    "\n",
    "Following the class id assignation of COCO, the class 0 belongs to 'person', so these are the detections we are interested in"
   ]
  },
  {
   "cell_type": "code",
   "execution_count": null,
   "metadata": {},
   "outputs": [],
   "source": []
  }
 ],
 "metadata": {
  "kernelspec": {
   "display_name": "Python 3.9.15 ('TopDownBBox')",
   "language": "python",
   "name": "python3"
  },
  "language_info": {
   "codemirror_mode": {
    "name": "ipython",
    "version": 3
   },
   "file_extension": ".py",
   "mimetype": "text/x-python",
   "name": "python",
   "nbconvert_exporter": "python",
   "pygments_lexer": "ipython3",
   "version": "3.9.15"
  },
  "orig_nbformat": 4,
  "vscode": {
   "interpreter": {
    "hash": "cd6f479255b7e71d6f377eeb5718f7de411fe071093ec24e6c2937ffe83895ae"
   }
  }
 },
 "nbformat": 4,
 "nbformat_minor": 2
}
